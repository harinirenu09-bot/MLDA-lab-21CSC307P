{
  "nbformat": 4,
  "nbformat_minor": 0,
  "metadata": {
    "colab": {
      "provenance": []
    },
    "kernelspec": {
      "name": "python3",
      "display_name": "Python 3"
    },
    "language_info": {
      "name": "python"
    }
  },
  "cells": [
    {
      "cell_type": "code",
      "execution_count": 2,
      "metadata": {
        "colab": {
          "base_uri": "https://localhost:8080/"
        },
        "id": "O1INw0g6Z3BT",
        "outputId": "385b4a83-9a72-4bc5-b542-8fad754e2188"
      },
      "outputs": [
        {
          "output_type": "stream",
          "name": "stdout",
          "text": [
            "   satisfaction_level  last_evaluation  number_project  average_montly_hours  \\\n",
            "0                0.38             0.53               2                   157   \n",
            "1                0.80             0.86               5                   262   \n",
            "2                0.11             0.88               7                   272   \n",
            "3                0.72             0.87               5                   223   \n",
            "4                0.37             0.52               2                   159   \n",
            "\n",
            "   time_spend_company  Work_accident  left  promotion_last_5years  \\\n",
            "0                   3              0     1                      0   \n",
            "1                   6              0     1                      0   \n",
            "2                   4              0     1                      0   \n",
            "3                   5              0     1                      0   \n",
            "4                   3              0     1                      0   \n",
            "\n",
            "  Departments   salary  \n",
            "0        sales     low  \n",
            "1        sales  medium  \n",
            "2        sales  medium  \n",
            "3        sales     low  \n",
            "4        sales     low  \n",
            "   satisfaction_level  last_evaluation  number_project  average_montly_hours  \\\n",
            "0                0.38             0.53               2                   157   \n",
            "1                0.80             0.86               5                   262   \n",
            "2                0.11             0.88               7                   272   \n",
            "3                0.72             0.87               5                   223   \n",
            "4                0.37             0.52               2                   159   \n",
            "\n",
            "   time_spend_company  Work_accident  left  promotion_last_5years  \\\n",
            "0                   3              0     1                      0   \n",
            "1                   6              0     1                      0   \n",
            "2                   4              0     1                      0   \n",
            "3                   5              0     1                      0   \n",
            "4                   3              0     1                      0   \n",
            "\n",
            "  Departments   salary  \n",
            "0        sales       1  \n",
            "1        sales       2  \n",
            "2        sales       2  \n",
            "3        sales       1  \n",
            "4        sales       1  \n",
            "Accuracy: 0.978\n",
            "Linear Regression MSE: 0.14769133097781834\n",
            "Linear Regression R2: 0.20008835543583403\n"
          ]
        }
      ],
      "source": [
        "import pandas as pd\n",
        "from sklearn.preprocessing import LabelEncoder\n",
        "from sklearn.model_selection import train_test_split\n",
        "from sklearn.tree import DecisionTreeClassifier\n",
        "from sklearn.linear_model import LinearRegression\n",
        "from sklearn.metrics import accuracy_score, \\\n",
        "mean_squared_error, r2_score\n",
        "data=pd.read_csv(\"/content/employee_details.csv.csv\")\n",
        "print(data.head())\n",
        "le=LabelEncoder()\n",
        "data[\"salary\"]=le.fit_transform(data[\"salary\"])\n",
        "print(data.head())\n",
        "x=data[[\"satisfaction_level\",\"last_evaluation\",\"number_project\",\n",
        "\"average_montly_hours\",\"time_spend_company\",\n",
        "\"Work_accident\",\"promotion_last_5years\",\"salary\"]]\n",
        "x.head()\n",
        "y=data[\"left\"]\n",
        "x.head()\n",
        "x_train,x_test,y_train,y_test=train_test_split(x,y,test_size=0.2,random_state=2)\n",
        "dt=DecisionTreeClassifier(criterion=\"entropy\")\n",
        "dt.fit(x_train,y_train)\n",
        "y_dt_pred=dt.predict(x_test)\n",
        "accuracy_dt=accuracy_score(y_test,y_dt_pred)\n",
        "print(\"Accuracy:\",accuracy_dt)\n",
        "lrr = LinearRegression()\n",
        "lrr.fit(x_train, y_train)\n",
        "y_lrr_pred = lrr.predict(x_test)\n",
        "\n",
        "mse = mean_squared_error(y_test, y_lrr_pred)\n",
        "r2 = r2_score(y_test, y_lrr_pred)\n",
        "\n",
        "print(\"Linear Regression MSE:\", mse)\n",
        "print(\"Linear Regression R2:\", r2)"
      ]
    }
  ]
}