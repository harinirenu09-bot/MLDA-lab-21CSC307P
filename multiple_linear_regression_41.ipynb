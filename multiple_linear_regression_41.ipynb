{
  "nbformat": 4,
  "nbformat_minor": 0,
  "metadata": {
    "colab": {
      "provenance": []
    },
    "kernelspec": {
      "name": "python3",
      "display_name": "Python 3"
    },
    "language_info": {
      "name": "python"
    }
  },
  "cells": [
    {
      "cell_type": "code",
      "execution_count": 2,
      "metadata": {
        "colab": {
          "base_uri": "https://localhost:8080/"
        },
        "id": "rffR8wficb9t",
        "outputId": "b82a50fa-5641-437d-a930-732bf97752a6"
      },
      "outputs": [
        {
          "output_type": "stream",
          "name": "stdout",
          "text": [
            "   satisfaction_level  last_evaluation  number_project  average_montly_hours  \\\n",
            "0                0.38             0.53               2                   157   \n",
            "1                0.80             0.86               5                   262   \n",
            "2                0.11             0.88               7                   272   \n",
            "3                0.72             0.87               5                   223   \n",
            "4                0.37             0.52               2                   159   \n",
            "\n",
            "   time_spend_company  Work_accident  promotion_last_5years  salary  left  \n",
            "0                   3              0                      0     low     1  \n",
            "1                   6              0                      0  medium     1  \n",
            "2                   4              0                      0    high     1  \n",
            "3                   5              0                      0     low     1  \n",
            "4                   3              0                      0     low     1  \n",
            "   satisfaction_level  last_evaluation  number_project  average_montly_hours  \\\n",
            "0                0.38             0.53               2                   157   \n",
            "1                0.80             0.86               5                   262   \n",
            "2                0.11             0.88               7                   272   \n",
            "3                0.72             0.87               5                   223   \n",
            "4                0.37             0.52               2                   159   \n",
            "\n",
            "   time_spend_company  Work_accident  promotion_last_5years  salary  left  \n",
            "0                   3              0                      0       1     1  \n",
            "1                   6              0                      0       2     1  \n",
            "2                   4              0                      0       0     1  \n",
            "3                   5              0                      0       1     1  \n",
            "4                   3              0                      0       1     1  \n",
            "Linear Regression MSE: 0.189459451403211\n",
            "Linear Regression R2: -0.3641080501031191\n"
          ]
        }
      ],
      "source": [
        "import pandas as pd\n",
        "from sklearn.preprocessing import LabelEncoder\n",
        "from sklearn.model_selection import train_test_split\n",
        "from sklearn.linear_model import LinearRegression\n",
        "from sklearn.metrics import mean_squared_error, r2_score\n",
        "\n",
        "data=pd.read_csv(\"/content/Employee_Details.csv\")\n",
        "print(data.head())\n",
        "\n",
        "le=LabelEncoder()\n",
        "data[\"salary\"]=le.fit_transform(data[\"salary\"])\n",
        "print(data.head())\n",
        "\n",
        "x = data[[\"satisfaction_level\", \"last_evaluation\", \"number_project\",\n",
        "          \"average_montly_hours\", \"time_spend_company\",\n",
        "          \"Work_accident\", \"promotion_last_5years\", \"salary\"]]\n",
        "x.head()\n",
        "\n",
        "y=data[\"left\"]\n",
        "x.head()\n",
        "\n",
        "x_train, x_test, y_train, y_test = train_test_split(x, y,\n",
        "                                                    test_size=0.2,\n",
        "                                                    random_state=2)\n",
        "\n",
        "lrr = LinearRegression()\n",
        "lrr.fit(x_train, y_train)\n",
        "y_lrr_pred = lrr.predict(x_test)\n",
        "\n",
        "mse = mean_squared_error(y_test, y_lrr_pred)\n",
        "r2 = r2_score(y_test, y_lrr_pred)\n",
        "\n",
        "print(\"Linear Regression MSE:\", mse)\n",
        "print(\"Linear Regression R2:\", r2)"
      ]
    }
  ]
}