{
  "nbformat": 4,
  "nbformat_minor": 0,
  "metadata": {
    "colab": {
      "provenance": []
    },
    "kernelspec": {
      "name": "python3",
      "display_name": "Python 3"
    },
    "language_info": {
      "name": "python"
    }
  },
  "cells": [
    {
      "cell_type": "code",
      "execution_count": 2,
      "metadata": {
        "colab": {
          "base_uri": "https://localhost:8080/"
        },
        "id": "98bGNlb1d37E",
        "outputId": "a1cd67e2-8ba7-4a71-a581-080b3ab2e178"
      },
      "outputs": [
        {
          "output_type": "stream",
          "name": "stdout",
          "text": [
            "   satisfaction_level  last_evaluation  number_project  average_montly_hours  \\\n",
            "0                0.50             0.94               6                   202   \n",
            "1                0.96             0.47               5                   230   \n",
            "2                0.79             0.40               4                   263   \n",
            "3                0.68             0.64               5                   236   \n",
            "4                0.32             0.99               6                   188   \n",
            "\n",
            "   time_spend_company  Work_accident  promotion_last_5years salary  left  \n",
            "0                   2              0                      0    low     0  \n",
            "1                   4              0                      1    low     0  \n",
            "2                   5              0                      1   high     0  \n",
            "3                   2              1                      0   high     0  \n",
            "4                   2              0                      0    low     0  \n",
            "   satisfaction_level  last_evaluation  number_project  average_montly_hours  \\\n",
            "0                0.50             0.94               6                   202   \n",
            "1                0.96             0.47               5                   230   \n",
            "2                0.79             0.40               4                   263   \n",
            "3                0.68             0.64               5                   236   \n",
            "4                0.32             0.99               6                   188   \n",
            "\n",
            "   time_spend_company  Work_accident  promotion_last_5years  salary  left  \n",
            "0                   2              0                      0       1     0  \n",
            "1                   4              0                      1       1     0  \n",
            "2                   5              0                      1       0     0  \n",
            "3                   2              1                      0       0     0  \n",
            "4                   2              0                      0       1     0  \n",
            "y_test shape: (30,)\n",
            "y_lr_pred shape: (30,)\n",
            "0.9333333333333333\n"
          ]
        }
      ],
      "source": [
        "import pandas as pd\n",
        "from sklearn.preprocessing import LabelEncoder\n",
        "from sklearn.model_selection import train_test_split\n",
        "from sklearn.linear_model import LogisticRegression\n",
        "from sklearn.metrics import accuracy_score\n",
        "\n",
        "data=pd.read_csv(\"/Employee_Logistic_Details.csv\")\n",
        "print(data.head())\n",
        "le=LabelEncoder()\n",
        "data[\"salary\"]=le.fit_transform(data[\"salary\"])\n",
        "print(data.head())\n",
        "x=data[[\"satisfaction_level\",\"last_evaluation\",\"number_project\",\n",
        "\"average_montly_hours\",\"time_spend_company\",\n",
        "\"Work_accident\",\"promotion_last_5years\",\"salary\"]]\n",
        "x.head()\n",
        "y=data[\"left\"]\n",
        "x.head()\n",
        "x_train,x_test,y_train,y_test=train_test_split(x,y,test_size=0.2,random_state=2)\n",
        "lr = LogisticRegression(max_iter=1000)\n",
        "lr.fit(x_train,y_train)\n",
        "y_lr_pred=lr.predict(x_test)\n",
        "print(\"y_test shape:\", y_test.shape)\n",
        "print(\"y_lr_pred shape:\", y_lr_pred.shape)\n",
        "accuracy_lr=accuracy_score(y_test,y_lr_pred)\n",
        "print(accuracy_lr)"
      ]
    }
  ]
}