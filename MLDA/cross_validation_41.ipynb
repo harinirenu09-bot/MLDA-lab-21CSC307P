{
  "nbformat": 4,
  "nbformat_minor": 0,
  "metadata": {
    "colab": {
      "provenance": []
    },
    "kernelspec": {
      "name": "python3",
      "display_name": "Python 3"
    },
    "language_info": {
      "name": "python"
    }
  },
  "cells": [
    {
      "cell_type": "code",
      "source": [
        "import pandas as pd\n",
        "from sklearn.model_selection import KFold, cross_val_score\n",
        "from sklearn.linear_model import LinearRegression\n",
        "\n",
        "# Load dataset\n",
        "df = pd.read_csv(\"/content/cross_validation_linear_regression_dataset.csv\")\n",
        "\n",
        "X = df[['X']]   # independent variable\n",
        "y = df['Y']     # dependent variable\n",
        "\n",
        "# Define model\n",
        "model = LinearRegression()\n",
        "\n",
        "# Define cross-validation strategy (5 folds here)\n",
        "kf = KFold(n_splits=5, shuffle=True, random_state=42)\n",
        "\n",
        "# Perform cross-validation\n",
        "scores = cross_val_score(model, X, y, cv=kf, scoring='r2')\n",
        "\n",
        "print(\"Cross-validation scores:\", scores)\n",
        "print(\"Mean R^2 score:\", scores.mean())"
      ],
      "metadata": {
        "colab": {
          "base_uri": "https://localhost:8080/"
        },
        "id": "tFte4PosYoAj",
        "outputId": "2f93c9c2-94fc-4140-8910-0d547248df7b"
      },
      "execution_count": 2,
      "outputs": [
        {
          "output_type": "stream",
          "name": "stdout",
          "text": [
            "Cross-validation scores: [0.98910396 0.98759267 0.99474498 0.99126845 0.98596051]\n",
            "Mean R^2 score: 0.9897341134052521\n"
          ]
        }
      ]
    }
  ]
}