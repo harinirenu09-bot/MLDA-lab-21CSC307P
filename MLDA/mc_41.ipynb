{
  "nbformat": 4,
  "nbformat_minor": 0,
  "metadata": {
    "colab": {
      "provenance": []
    },
    "kernelspec": {
      "name": "python3",
      "display_name": "Python 3"
    },
    "language_info": {
      "name": "python"
    }
  },
  "cells": [
    {
      "cell_type": "code",
      "source": [
        "import pandas as pd\n",
        "from sklearn.preprocessing import LabelEncoder\n",
        "from sklearn.model_selection import train_test_split\n",
        "from sklearn.tree import DecisionTreeClassifier\n",
        "from sklearn.linear_model import LogisticRegression\n",
        "from sklearn.metrics import accuracy_score\n",
        "from statsmodels.stats.contingency_tables import mcnemar\n",
        "\n",
        "# Load the dataset\n",
        "data = pd.read_csv(\"/content/mc.csv\")\n",
        "\n",
        "# Encode categorical features\n",
        "le_salary = LabelEncoder()\n",
        "data[\"salary\"] = le_salary.fit_transform(data[\"salary\"])\n",
        "\n",
        "le_department = LabelEncoder()\n",
        "data[\"department\"] = le_department.fit_transform(data[\"department\"])\n",
        "\n",
        "# Features and target\n",
        "x = data[[\n",
        "    \"satisfaction_level\",\n",
        "    \"last_evaluation\",\n",
        "    \"number_project\",\n",
        "    \"average_montly_hours\",\n",
        "    \"time_spend_company\",\n",
        "    \"work_accident\",\n",
        "    \"promotion_last_5years\",\n",
        "    \"salary\",\n",
        "    \"department\",\n",
        "    \"age\",\n",
        "    \"remote_work\",\n",
        "    \"training_hours\"\n",
        "]]\n",
        "y = data[\"left\"]\n",
        "\n",
        "# Train/test split\n",
        "x_train, x_test, y_train, y_test = train_test_split(x, y, test_size=0.2, random_state=42)\n",
        "\n",
        "# Decision Tree\n",
        "dt = DecisionTreeClassifier(criterion=\"entropy\")\n",
        "dt.fit(x_train, y_train)\n",
        "y_dt_pred = dt.predict(x_test)\n",
        "\n",
        "# Logistic Regression\n",
        "lr = LogisticRegression(max_iter=1000)\n",
        "lr.fit(x_train, y_train)\n",
        "y_lr_pred = lr.predict(x_test)\n",
        "\n",
        "# Accuracy scores\n",
        "print(\"Decision Tree Accuracy:\", accuracy_score(y_test, y_dt_pred))\n",
        "print(\"Logistic Regression Accuracy:\", accuracy_score(y_test, y_lr_pred))\n",
        "\n",
        "# ---------------------------\n",
        "# McNemar’s Test\n",
        "# ---------------------------\n",
        "# Build contingency table\n",
        "table = [[0, 0], [0, 0]]\n",
        "\n",
        "for i in range(len(y_test)):\n",
        "    if y_test.iloc[i] == y_dt_pred[i] and y_test.iloc[i] != y_lr_pred[i]:\n",
        "        table[0][1] += 1  # DT correct, LR wrong\n",
        "    elif y_test.iloc[i] != y_dt_pred[i] and y_test.iloc[i] == y_lr_pred[i]:\n",
        "        table[1][0] += 1  # LR correct, DT wrong\n",
        "    elif y_test.iloc[i] == y_dt_pred[i] and y_test.iloc[i] == y_lr_pred[i]:\n",
        "        table[0][0] += 1  # both correct\n",
        "    else:\n",
        "        table[1][1] += 1  # both wrong\n",
        "\n",
        "print(\"Contingency Table (McNemar):\", table)\n",
        "\n",
        "# Run McNemar’s test\n",
        "result = mcnemar(table, exact=True)\n",
        "print(\"McNemar’s Test Statistic:\", result.statistic)\n",
        "print(\"McNemar’s Test p-value:\", result.pvalue)\n",
        "\n",
        "if result.pvalue < 0.05:\n",
        "    print(\"Significant difference between models (reject H0)\")\n",
        "else:\n",
        "    print(\"No significant difference between models (fail to reject H0)\")"
      ],
      "metadata": {
        "colab": {
          "base_uri": "https://localhost:8080/"
        },
        "id": "dEeZ5Sysk_jv",
        "outputId": "060866fe-d055-4cbc-85a7-feb4622b20f7"
      },
      "execution_count": 9,
      "outputs": [
        {
          "output_type": "stream",
          "name": "stdout",
          "text": [
            "Decision Tree Accuracy: 0.555\n",
            "Logistic Regression Accuracy: 0.695\n",
            "Contingency Table (McNemar): [[87, 24], [52, 37]]\n",
            "McNemar’s Test Statistic: 24.0\n",
            "McNemar’s Test p-value: 0.001761872002940625\n",
            "Significant difference between models (reject H0)\n"
          ]
        }
      ]
    }
  ]
}