{
  "nbformat": 4,
  "nbformat_minor": 0,
  "metadata": {
    "colab": {
      "provenance": []
    },
    "kernelspec": {
      "name": "python3",
      "display_name": "Python 3"
    },
    "language_info": {
      "name": "python"
    }
  },
  "cells": [
    {
      "cell_type": "code",
      "execution_count": 5,
      "metadata": {
        "colab": {
          "base_uri": "https://localhost:8080/"
        },
        "id": "g2xIUtbAf-bp",
        "outputId": "03c46da6-085e-4acf-ce8f-335e07b40252"
      },
      "outputs": [
        {
          "output_type": "stream",
          "name": "stdout",
          "text": [
            "   study_hours  attendance  assignments_submitted  extra_classes  \\\n",
            "0           10          80                      8              1   \n",
            "1            5          60                      5              0   \n",
            "2           12          90                     10              1   \n",
            "3            3          40                      3              0   \n",
            "4            8          70                      7              0   \n",
            "\n",
            "   internals_score  discipline_issues gender  pass  \n",
            "0               75                  0      M     1  \n",
            "1               45                  1      F     0  \n",
            "2               85                  0      M     1  \n",
            "3               30                  1      F     0  \n",
            "4               65                  0      M     1  \n",
            "y_test shape: (3,)\n",
            "y_dt_pred shape: (3,)\n",
            "1.0\n"
          ]
        }
      ],
      "source": [
        "import pandas as pd\n",
        "from sklearn.preprocessing import LabelEncoder\n",
        "from sklearn.model_selection import train_test_split\n",
        "from sklearn.tree import DecisionTreeClassifier\n",
        "from sklearn.metrics import accuracy_score\n",
        "data=pd.read_csv(\"/content/Student_Performance.csv\")\n",
        "print(data.head())\n",
        "# le=LabelEncoder()\n",
        "# data[\"salary\"]=le.fit_transform(data[\"salary\"])\n",
        "# print(data.head())\n",
        "x=data[[\"study_hours\",\"attendance\",\"assignments_submitted\",\n",
        "\"extra_classes\",\"internals_score\",\n",
        "\"discipline_issues\",\"gender\"]].copy() # Create a copy to avoid SettingWithCopyWarning\n",
        "# x.head()\n",
        "y=data[\"pass\"]\n",
        "# x.head()\n",
        "\n",
        "# Convert 'gender' column to numerical using LabelEncoder\n",
        "le = LabelEncoder()\n",
        "x.loc[:, 'gender'] = le.fit_transform(x['gender']) # Use .loc to explicitly modify the DataFrame\n",
        "\n",
        "x_train,x_test,y_train,y_test=train_test_split(x,y,test_size=0.2,random_state=2)\n",
        "dt=DecisionTreeClassifier(criterion=\"entropy\")\n",
        "dt.fit(x_train,y_train)\n",
        "y_dt_pred=dt.predict(x_test)\n",
        "print(\"y_test shape:\", y_test.shape)\n",
        "print(\"y_dt_pred shape:\", y_dt_pred.shape)\n",
        "accuracy_dt=accuracy_score(y_test,y_dt_pred)\n",
        "print(accuracy_dt)"
      ]
    }
  ]
}